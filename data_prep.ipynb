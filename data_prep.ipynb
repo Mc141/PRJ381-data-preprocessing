{
 "cells": [
  {
   "cell_type": "code",
   "execution_count": null,
   "id": "8c4eeb92",
   "metadata": {},
   "outputs": [],
   "source": [
    "import pandas as pd\n",
    "from pathlib import Path\n",
    "from datetime import datetime\n",
    "from src.power_api import PowerAPI"
   ]
  },
  {
   "cell_type": "code",
   "execution_count": null,
   "id": "34ef97d7",
   "metadata": {},
   "outputs": [],
   "source": [
    "df = pd.read_csv('data/table_mountain_sightings.csv')"
   ]
  },
  {
   "cell_type": "code",
   "execution_count": null,
   "id": "7ad7a4e6",
   "metadata": {},
   "outputs": [],
   "source": [
    "df.info()"
   ]
  },
  {
   "cell_type": "code",
   "execution_count": null,
   "id": "dcce7100",
   "metadata": {},
   "outputs": [],
   "source": [
    "df.describe().T"
   ]
  },
  {
   "cell_type": "code",
   "execution_count": null,
   "id": "df7834f6",
   "metadata": {},
   "outputs": [],
   "source": [
    "df.head()"
   ]
  },
  {
   "cell_type": "code",
   "execution_count": null,
   "id": "6f880a77",
   "metadata": {},
   "outputs": [],
   "source": [
    "coordinates_df = df[['id', 'latitude', 'longitude']].dropna().copy()\n",
    "coordinates_df['id'] = coordinates_df['id'].astype(str)\n",
    "\n",
    "# Output folder for individual weather files\n",
    "OUTPUT_DIR = Path(\"data/weather_10yr\")\n",
    "OUTPUT_DIR.mkdir(parents=True, exist_ok=True)\n",
    "\n",
    "# Date range: last 10 years from today\n",
    "end = pd.Timestamp.today().normalize()\n",
    "start = end - pd.DateOffset(years=10)\n",
    "\n",
    "start_date_str = start.strftime('%Y%m%d')\n",
    "end_date_str = end.strftime('%Y%m%d')\n",
    "\n",
    "# Fetch weather data for each coordinate\n",
    "for idx, row in coordinates_df.iterrows():\n",
    "    obs_id = row['id']\n",
    "    lat = row['latitude']\n",
    "    lon = row['longitude']\n",
    "\n",
    "    output_file = OUTPUT_DIR / f\"{obs_id}_{start_date_str}_{end_date_str}.csv\"\n",
    "    if output_file.exists():\n",
    "        print(f\"[{obs_id}] Already exists. Skipping.\")\n",
    "        continue\n",
    "\n",
    "    try:\n",
    "        print(f\"[{obs_id}] Fetching weather from {start_date_str} to {end_date_str} at ({lat}, {lon})\")\n",
    "\n",
    "        weather = PowerAPI(\n",
    "            start=start,\n",
    "            end=end,\n",
    "            long=lon,\n",
    "            lat=lat\n",
    "        )\n",
    "        weather_df = weather.get_weather()\n",
    "\n",
    "        if not weather_df.empty:\n",
    "            weather_df.to_csv(output_file, sep=\";\")\n",
    "            print(f\"[{obs_id}] Saved to {output_file}\")\n",
    "        else:\n",
    "            print(f\"[{obs_id}] No weather data returned.\")\n",
    "\n",
    "    except Exception as e:\n",
    "        print(f\"[{obs_id}] Error: {e}\")\n",
    "\n",
    "# Now combine all files into one DataFrame\n",
    "INPUT_DIR = OUTPUT_DIR  # Directory where all files are saved\n",
    "OUTPUT_FILE = Path(\"data/all_weather_10yr_combined.csv\")\n",
    "\n",
    "all_weather_dfs = []\n",
    "\n",
    "for file in INPUT_DIR.glob(\"*.csv\"):\n",
    "    try:\n",
    "        weather_df = pd.read_csv(file, sep=';')\n",
    "        obs_id = file.stem.split('_')[0]\n",
    "        weather_df['id'] = obs_id\n",
    "\n",
    "        # Merge coordinates to each weather data row\n",
    "        merged_df = weather_df.merge(coordinates_df, on='id', how='left')\n",
    "        all_weather_dfs.append(merged_df)\n",
    "\n",
    "    except Exception as e:\n",
    "        print(f\"Error reading {file.name}: {e}\")\n",
    "\n",
    "if all_weather_dfs:\n",
    "    final_df = pd.concat(all_weather_dfs, ignore_index=True)\n",
    "    final_df.to_csv(OUTPUT_FILE, index=False)\n",
    "    print(f\"Combined weather data saved to {OUTPUT_FILE}\")\n",
    "else:\n",
    "    print(\"No weather data found to combine.\")"
   ]
  }
 ],
 "metadata": {
  "kernelspec": {
   "display_name": "Python 3",
   "language": "python",
   "name": "python3"
  },
  "language_info": {
   "codemirror_mode": {
    "name": "ipython",
    "version": 3
   },
   "file_extension": ".py",
   "mimetype": "text/x-python",
   "name": "python",
   "nbconvert_exporter": "python",
   "pygments_lexer": "ipython3",
   "version": "3.12.4"
  }
 },
 "nbformat": 4,
 "nbformat_minor": 5
}
